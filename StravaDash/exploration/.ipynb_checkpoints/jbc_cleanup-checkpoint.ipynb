{
 "cells": [
  {
   "cell_type": "markdown",
   "metadata": {},
   "source": [
    "# Strava Data Project\n",
    "----"
   ]
  },
  {
   "cell_type": "markdown",
   "metadata": {},
   "source": [
    "**Goals:**\n",
    "- Develop a script to clean up the data and surface different charts and statistics\n",
    "    - Totals, Avgs, Time series, Locations, Fastest segments, Longest Runs, All over\n",
    "        - Speed, Distance, Time, Altitude, Calories, Activity Type\n",
    "- Create dashboard using d3.js and other front end tools (html, css)\n",
    "    - Focus on design and dynamics\n",
    "- Create scrollable/slideshow on webpage to increase interactivity\n",
    "    - Surface all the major statistics in a nice fashion\n",
    "    - Dashboard at the end\n",
    "- Reach Task: Create a live webpage where people can upload their 'activities.csv' data from strava and see their information afterwards\n",
    "    - Questions\n",
    "        - Data collections from stangers?\n",
    "        - Making webpage constantly active?\n",
    "\n",
    "**Results:**\n",
    "- Python script to ingest and process data files\n",
    "- html webpage to show all the information\n",
    "- Website url for public access\n",
    "\n",
    "**Future:**\n",
    "- Weave in whoop data?"
   ]
  },
  {
   "cell_type": "code",
   "execution_count": 45,
   "metadata": {},
   "outputs": [],
   "source": [
    "import pandas as pd\n",
    "import os\n",
    "import datetime"
   ]
  },
  {
   "cell_type": "code",
   "execution_count": 46,
   "metadata": {},
   "outputs": [
    {
     "data": {
      "text/plain": [
       "'/Users/Ty/Code/Pets/Strava/StravaDash/exploration'"
      ]
     },
     "execution_count": 46,
     "metadata": {},
     "output_type": "execute_result"
    }
   ],
   "source": [
    "os.getcwd()"
   ]
  },
  {
   "cell_type": "code",
   "execution_count": 47,
   "metadata": {},
   "outputs": [],
   "source": [
    "data = pd.read_csv('../data/activities.csv')"
   ]
  },
  {
   "cell_type": "code",
   "execution_count": 48,
   "metadata": {},
   "outputs": [
    {
     "data": {
      "text/html": [
       "<div>\n",
       "<style scoped>\n",
       "    .dataframe tbody tr th:only-of-type {\n",
       "        vertical-align: middle;\n",
       "    }\n",
       "\n",
       "    .dataframe tbody tr th {\n",
       "        vertical-align: top;\n",
       "    }\n",
       "\n",
       "    .dataframe thead th {\n",
       "        text-align: right;\n",
       "    }\n",
       "</style>\n",
       "<table border=\"1\" class=\"dataframe\">\n",
       "  <thead>\n",
       "    <tr style=\"text-align: right;\">\n",
       "      <th></th>\n",
       "      <th>Activity ID</th>\n",
       "      <th>Activity Date</th>\n",
       "      <th>Activity Name</th>\n",
       "      <th>Activity Type</th>\n",
       "      <th>Elapsed Time</th>\n",
       "      <th>Elapsed Time.1</th>\n",
       "      <th>Distance</th>\n",
       "      <th>Distance.1</th>\n",
       "      <th>Max Heart Rate</th>\n",
       "      <th>Relative Effort</th>\n",
       "      <th>...</th>\n",
       "      <th>Max Speed</th>\n",
       "      <th>Average Speed</th>\n",
       "      <th>Elevation Gain</th>\n",
       "      <th>Elevation Loss</th>\n",
       "      <th>Elevation Low</th>\n",
       "      <th>Elevation High</th>\n",
       "      <th>Max Grade</th>\n",
       "      <th>Average Grade</th>\n",
       "      <th>Average Heart Rate</th>\n",
       "      <th>Calories</th>\n",
       "    </tr>\n",
       "  </thead>\n",
       "  <tbody>\n",
       "    <tr>\n",
       "      <th>0</th>\n",
       "      <td>4551300481</td>\n",
       "      <td>Jan 1, 2021, 10:56:31 PM</td>\n",
       "      <td>Afternoon Run</td>\n",
       "      <td>Run</td>\n",
       "      <td>612</td>\n",
       "      <td>612.0</td>\n",
       "      <td>1.61</td>\n",
       "      <td>1609.400024</td>\n",
       "      <td>NaN</td>\n",
       "      <td>NaN</td>\n",
       "      <td>...</td>\n",
       "      <td>NaN</td>\n",
       "      <td>2.629739</td>\n",
       "      <td>NaN</td>\n",
       "      <td>NaN</td>\n",
       "      <td>NaN</td>\n",
       "      <td>NaN</td>\n",
       "      <td>NaN</td>\n",
       "      <td>0.000000</td>\n",
       "      <td>NaN</td>\n",
       "      <td>NaN</td>\n",
       "    </tr>\n",
       "    <tr>\n",
       "      <th>1</th>\n",
       "      <td>4555170880</td>\n",
       "      <td>Jan 2, 2021, 3:52:42 PM</td>\n",
       "      <td>Morning Run</td>\n",
       "      <td>Run</td>\n",
       "      <td>647</td>\n",
       "      <td>647.0</td>\n",
       "      <td>1.69</td>\n",
       "      <td>1698.300049</td>\n",
       "      <td>NaN</td>\n",
       "      <td>NaN</td>\n",
       "      <td>...</td>\n",
       "      <td>7.0</td>\n",
       "      <td>2.844724</td>\n",
       "      <td>28.823198</td>\n",
       "      <td>26.423201</td>\n",
       "      <td>58.400002</td>\n",
       "      <td>77.400002</td>\n",
       "      <td>8.7</td>\n",
       "      <td>0.141318</td>\n",
       "      <td>NaN</td>\n",
       "      <td>NaN</td>\n",
       "    </tr>\n",
       "  </tbody>\n",
       "</table>\n",
       "<p>2 rows × 21 columns</p>\n",
       "</div>"
      ],
      "text/plain": [
       "   Activity ID             Activity Date  Activity Name Activity Type  \\\n",
       "0   4551300481  Jan 1, 2021, 10:56:31 PM  Afternoon Run           Run   \n",
       "1   4555170880   Jan 2, 2021, 3:52:42 PM    Morning Run           Run   \n",
       "\n",
       "   Elapsed Time  Elapsed Time.1  Distance   Distance.1  Max Heart Rate  \\\n",
       "0           612           612.0      1.61  1609.400024             NaN   \n",
       "1           647           647.0      1.69  1698.300049             NaN   \n",
       "\n",
       "   Relative Effort  ...  Max Speed  Average Speed  Elevation Gain  \\\n",
       "0              NaN  ...        NaN       2.629739             NaN   \n",
       "1              NaN  ...        7.0       2.844724       28.823198   \n",
       "\n",
       "   Elevation Loss  Elevation Low  Elevation High  Max Grade  Average Grade  \\\n",
       "0             NaN            NaN             NaN        NaN       0.000000   \n",
       "1       26.423201      58.400002       77.400002        8.7       0.141318   \n",
       "\n",
       "   Average Heart Rate  Calories  \n",
       "0                 NaN       NaN  \n",
       "1                 NaN       NaN  \n",
       "\n",
       "[2 rows x 21 columns]"
      ]
     },
     "execution_count": 48,
     "metadata": {},
     "output_type": "execute_result"
    }
   ],
   "source": [
    "df0 = data[['Activity ID', 'Activity Date', 'Activity Name', 'Activity Type', 'Elapsed Time',\n",
    "           'Elapsed Time.1', 'Distance', 'Distance.1', 'Max Heart Rate', 'Relative Effort',\n",
    "           'Moving Time', 'Max Speed', 'Average Speed', 'Elevation Gain',\n",
    "           'Elevation Loss', 'Elevation Low', 'Elevation High', 'Max Grade', 'Average Grade',\n",
    "           'Average Heart Rate', 'Calories']]\n",
    "df0.head(2)"
   ]
  },
  {
   "cell_type": "code",
   "execution_count": 49,
   "metadata": {},
   "outputs": [],
   "source": [
    "df0.columns = [i.lower().replace(' ', '_') for i in df0.columns]"
   ]
  },
  {
   "cell_type": "code",
   "execution_count": 50,
   "metadata": {},
   "outputs": [
    {
     "data": {
      "text/plain": [
       "activity_id                         6058411633\n",
       "activity_date         Oct 3, 2021, 11:45:12 AM\n",
       "activity_name                   Maine Marathon\n",
       "activity_type                              Run\n",
       "elapsed_time                             13595\n",
       "elapsed_time.1                         13595.0\n",
       "distance                                 42.94\n",
       "distance.1                             42942.5\n",
       "max_heart_rate                             NaN\n",
       "relative_effort                            NaN\n",
       "moving_time                            13549.0\n",
       "max_speed                                  5.4\n",
       "average_speed                         3.169422\n",
       "elevation_gain                      256.183472\n",
       "elevation_loss                       256.28299\n",
       "elevation_low                              2.0\n",
       "elevation_high                       51.599998\n",
       "max_grade                                 10.2\n",
       "average_grade                        -0.000233\n",
       "average_heart_rate                         NaN\n",
       "calories                                   NaN\n",
       "Name: 597, dtype: object"
      ]
     },
     "execution_count": 50,
     "metadata": {},
     "output_type": "execute_result"
    }
   ],
   "source": [
    "df0.iloc[597]"
   ]
  },
  {
   "cell_type": "code",
   "execution_count": 51,
   "metadata": {},
   "outputs": [
    {
     "name": "stdout",
     "output_type": "stream",
     "text": [
      "<class 'pandas.core.frame.DataFrame'>\n",
      "RangeIndex: 660 entries, 0 to 659\n",
      "Data columns (total 21 columns):\n",
      " #   Column              Non-Null Count  Dtype  \n",
      "---  ------              --------------  -----  \n",
      " 0   activity_id         660 non-null    int64  \n",
      " 1   activity_date       660 non-null    object \n",
      " 2   activity_name       660 non-null    object \n",
      " 3   activity_type       660 non-null    object \n",
      " 4   elapsed_time        660 non-null    int64  \n",
      " 5   elapsed_time.1      660 non-null    float64\n",
      " 6   distance            660 non-null    float64\n",
      " 7   distance.1          660 non-null    float64\n",
      " 8   max_heart_rate      344 non-null    float64\n",
      " 9   relative_effort     344 non-null    float64\n",
      " 10  moving_time         660 non-null    float64\n",
      " 11  max_speed           656 non-null    float64\n",
      " 12  average_speed       660 non-null    float64\n",
      " 13  elevation_gain      656 non-null    float64\n",
      " 14  elevation_loss      311 non-null    float64\n",
      " 15  elevation_low       311 non-null    float64\n",
      " 16  elevation_high      311 non-null    float64\n",
      " 17  max_grade           656 non-null    float64\n",
      " 18  average_grade       660 non-null    float64\n",
      " 19  average_heart_rate  344 non-null    float64\n",
      " 20  calories            346 non-null    float64\n",
      "dtypes: float64(16), int64(2), object(3)\n",
      "memory usage: 108.4+ KB\n"
     ]
    }
   ],
   "source": [
    "df0.info()"
   ]
  },
  {
   "cell_type": "code",
   "execution_count": 52,
   "metadata": {},
   "outputs": [],
   "source": [
    "df = df0.copy()\n",
    "\n",
    "#df['time_of_day'] = [i.split(',')[2].strip() for i in df['activity_date']]\n",
    "#df['date_time'] = datetime.datetime.strptime(df['activity_date'], \"%b %d, %Y %H:%M:%S%p\")\n",
    "df['date_time'] = pd.to_datetime(df['activity_date']) - pd.Timedelta(hours=4)\n",
    "df['hour_of_day'] = df['date_time'].dt.hour\n",
    "df['month_of_year'] = df['date_time'].dt.month\n",
    "\n",
    "df['distance_miles'] = df['distance'] / 1.609\n",
    "df['time_minutes'] = df['elapsed_time'] / 60\n",
    "df['max_speed_mph'] = df['max_speed'] * 2.237\n",
    "df['average_speed_mph'] = df['average_speed'] * 2.237\n",
    "\n",
    "df['elevation_gain_ft'] = df['elevation_gain'] * 3.28084\n"
   ]
  },
  {
   "cell_type": "code",
   "execution_count": 53,
   "metadata": {},
   "outputs": [
    {
     "data": {
      "text/html": [
       "<div>\n",
       "<style scoped>\n",
       "    .dataframe tbody tr th:only-of-type {\n",
       "        vertical-align: middle;\n",
       "    }\n",
       "\n",
       "    .dataframe tbody tr th {\n",
       "        vertical-align: top;\n",
       "    }\n",
       "\n",
       "    .dataframe thead th {\n",
       "        text-align: right;\n",
       "    }\n",
       "</style>\n",
       "<table border=\"1\" class=\"dataframe\">\n",
       "  <thead>\n",
       "    <tr style=\"text-align: right;\">\n",
       "      <th></th>\n",
       "      <th>activity_id</th>\n",
       "      <th>activity_date</th>\n",
       "      <th>activity_name</th>\n",
       "      <th>activity_type</th>\n",
       "      <th>elapsed_time</th>\n",
       "      <th>elapsed_time.1</th>\n",
       "      <th>distance</th>\n",
       "      <th>distance.1</th>\n",
       "      <th>max_heart_rate</th>\n",
       "      <th>relative_effort</th>\n",
       "      <th>...</th>\n",
       "      <th>average_heart_rate</th>\n",
       "      <th>calories</th>\n",
       "      <th>date_time</th>\n",
       "      <th>hour_of_day</th>\n",
       "      <th>month_of_year</th>\n",
       "      <th>distance_miles</th>\n",
       "      <th>time_minutes</th>\n",
       "      <th>max_speed_mph</th>\n",
       "      <th>average_speed_mph</th>\n",
       "      <th>elevation_gain_ft</th>\n",
       "    </tr>\n",
       "  </thead>\n",
       "  <tbody>\n",
       "    <tr>\n",
       "      <th>0</th>\n",
       "      <td>4551300481</td>\n",
       "      <td>Jan 1, 2021, 10:56:31 PM</td>\n",
       "      <td>Afternoon Run</td>\n",
       "      <td>Run</td>\n",
       "      <td>612</td>\n",
       "      <td>612.0</td>\n",
       "      <td>1.61</td>\n",
       "      <td>1609.400024</td>\n",
       "      <td>NaN</td>\n",
       "      <td>NaN</td>\n",
       "      <td>...</td>\n",
       "      <td>NaN</td>\n",
       "      <td>NaN</td>\n",
       "      <td>2021-01-01 18:56:31</td>\n",
       "      <td>18</td>\n",
       "      <td>1</td>\n",
       "      <td>1.000622</td>\n",
       "      <td>10.200000</td>\n",
       "      <td>NaN</td>\n",
       "      <td>5.882725</td>\n",
       "      <td>NaN</td>\n",
       "    </tr>\n",
       "    <tr>\n",
       "      <th>1</th>\n",
       "      <td>4555170880</td>\n",
       "      <td>Jan 2, 2021, 3:52:42 PM</td>\n",
       "      <td>Morning Run</td>\n",
       "      <td>Run</td>\n",
       "      <td>647</td>\n",
       "      <td>647.0</td>\n",
       "      <td>1.69</td>\n",
       "      <td>1698.300049</td>\n",
       "      <td>NaN</td>\n",
       "      <td>NaN</td>\n",
       "      <td>...</td>\n",
       "      <td>NaN</td>\n",
       "      <td>NaN</td>\n",
       "      <td>2021-01-02 11:52:42</td>\n",
       "      <td>11</td>\n",
       "      <td>1</td>\n",
       "      <td>1.050342</td>\n",
       "      <td>10.783333</td>\n",
       "      <td>15.6590</td>\n",
       "      <td>6.363647</td>\n",
       "      <td>94.564302</td>\n",
       "    </tr>\n",
       "    <tr>\n",
       "      <th>2</th>\n",
       "      <td>4560941785</td>\n",
       "      <td>Jan 3, 2021, 2:52:02 PM</td>\n",
       "      <td>Morning Run</td>\n",
       "      <td>Run</td>\n",
       "      <td>633</td>\n",
       "      <td>633.0</td>\n",
       "      <td>1.64</td>\n",
       "      <td>1646.587280</td>\n",
       "      <td>168.0</td>\n",
       "      <td>28.0</td>\n",
       "      <td>...</td>\n",
       "      <td>168.0</td>\n",
       "      <td>NaN</td>\n",
       "      <td>2021-01-03 10:52:02</td>\n",
       "      <td>10</td>\n",
       "      <td>1</td>\n",
       "      <td>1.019267</td>\n",
       "      <td>10.550000</td>\n",
       "      <td>11.4087</td>\n",
       "      <td>5.979571</td>\n",
       "      <td>92.280133</td>\n",
       "    </tr>\n",
       "  </tbody>\n",
       "</table>\n",
       "<p>3 rows × 29 columns</p>\n",
       "</div>"
      ],
      "text/plain": [
       "   activity_id             activity_date  activity_name activity_type  \\\n",
       "0   4551300481  Jan 1, 2021, 10:56:31 PM  Afternoon Run           Run   \n",
       "1   4555170880   Jan 2, 2021, 3:52:42 PM    Morning Run           Run   \n",
       "2   4560941785   Jan 3, 2021, 2:52:02 PM    Morning Run           Run   \n",
       "\n",
       "   elapsed_time  elapsed_time.1  distance   distance.1  max_heart_rate  \\\n",
       "0           612           612.0      1.61  1609.400024             NaN   \n",
       "1           647           647.0      1.69  1698.300049             NaN   \n",
       "2           633           633.0      1.64  1646.587280           168.0   \n",
       "\n",
       "   relative_effort  ...  average_heart_rate  calories           date_time  \\\n",
       "0              NaN  ...                 NaN       NaN 2021-01-01 18:56:31   \n",
       "1              NaN  ...                 NaN       NaN 2021-01-02 11:52:42   \n",
       "2             28.0  ...               168.0       NaN 2021-01-03 10:52:02   \n",
       "\n",
       "   hour_of_day  month_of_year  distance_miles  time_minutes  max_speed_mph  \\\n",
       "0           18              1        1.000622     10.200000            NaN   \n",
       "1           11              1        1.050342     10.783333        15.6590   \n",
       "2           10              1        1.019267     10.550000        11.4087   \n",
       "\n",
       "   average_speed_mph  elevation_gain_ft  \n",
       "0           5.882725                NaN  \n",
       "1           6.363647          94.564302  \n",
       "2           5.979571          92.280133  \n",
       "\n",
       "[3 rows x 29 columns]"
      ]
     },
     "execution_count": 53,
     "metadata": {},
     "output_type": "execute_result"
    }
   ],
   "source": [
    "df.head(3)"
   ]
  },
  {
   "cell_type": "code",
   "execution_count": 54,
   "metadata": {},
   "outputs": [],
   "source": [
    "df = df.rename(columns={'distance':'distance_km', 'elapsed_time.1':'time_sec'})"
   ]
  },
  {
   "cell_type": "code",
   "execution_count": 55,
   "metadata": {},
   "outputs": [
    {
     "name": "stdout",
     "output_type": "stream",
     "text": [
      "<class 'pandas.core.frame.DataFrame'>\n",
      "RangeIndex: 660 entries, 0 to 659\n",
      "Data columns (total 29 columns):\n",
      " #   Column              Non-Null Count  Dtype         \n",
      "---  ------              --------------  -----         \n",
      " 0   activity_id         660 non-null    int64         \n",
      " 1   activity_date       660 non-null    object        \n",
      " 2   activity_name       660 non-null    object        \n",
      " 3   activity_type       660 non-null    object        \n",
      " 4   elapsed_time        660 non-null    int64         \n",
      " 5   time_sec            660 non-null    float64       \n",
      " 6   distance_km         660 non-null    float64       \n",
      " 7   distance.1          660 non-null    float64       \n",
      " 8   max_heart_rate      344 non-null    float64       \n",
      " 9   relative_effort     344 non-null    float64       \n",
      " 10  moving_time         660 non-null    float64       \n",
      " 11  max_speed           656 non-null    float64       \n",
      " 12  average_speed       660 non-null    float64       \n",
      " 13  elevation_gain      656 non-null    float64       \n",
      " 14  elevation_loss      311 non-null    float64       \n",
      " 15  elevation_low       311 non-null    float64       \n",
      " 16  elevation_high      311 non-null    float64       \n",
      " 17  max_grade           656 non-null    float64       \n",
      " 18  average_grade       660 non-null    float64       \n",
      " 19  average_heart_rate  344 non-null    float64       \n",
      " 20  calories            346 non-null    float64       \n",
      " 21  date_time           660 non-null    datetime64[ns]\n",
      " 22  hour_of_day         660 non-null    int64         \n",
      " 23  month_of_year       660 non-null    int64         \n",
      " 24  distance_miles      660 non-null    float64       \n",
      " 25  time_minutes        660 non-null    float64       \n",
      " 26  max_speed_mph       656 non-null    float64       \n",
      " 27  average_speed_mph   660 non-null    float64       \n",
      " 28  elevation_gain_ft   656 non-null    float64       \n",
      "dtypes: datetime64[ns](1), float64(21), int64(4), object(3)\n",
      "memory usage: 149.7+ KB\n"
     ]
    }
   ],
   "source": [
    "df.info()"
   ]
  },
  {
   "cell_type": "code",
   "execution_count": 56,
   "metadata": {},
   "outputs": [
    {
     "data": {
      "text/plain": [
       "Index(['activity_id', 'activity_date', 'activity_name', 'activity_type',\n",
       "       'elapsed_time', 'time_sec', 'distance_km', 'distance.1',\n",
       "       'max_heart_rate', 'relative_effort', 'moving_time', 'max_speed',\n",
       "       'average_speed', 'elevation_gain', 'elevation_loss', 'elevation_low',\n",
       "       'elevation_high', 'max_grade', 'average_grade', 'average_heart_rate',\n",
       "       'calories', 'date_time', 'hour_of_day', 'month_of_year',\n",
       "       'distance_miles', 'time_minutes', 'max_speed_mph', 'average_speed_mph',\n",
       "       'elevation_gain_ft'],\n",
       "      dtype='object')"
      ]
     },
     "execution_count": 56,
     "metadata": {},
     "output_type": "execute_result"
    }
   ],
   "source": [
    "df.columns"
   ]
  },
  {
   "cell_type": "code",
   "execution_count": 57,
   "metadata": {},
   "outputs": [
    {
     "data": {
      "text/html": [
       "<div>\n",
       "<style scoped>\n",
       "    .dataframe tbody tr th:only-of-type {\n",
       "        vertical-align: middle;\n",
       "    }\n",
       "\n",
       "    .dataframe tbody tr th {\n",
       "        vertical-align: top;\n",
       "    }\n",
       "\n",
       "    .dataframe thead th {\n",
       "        text-align: right;\n",
       "    }\n",
       "</style>\n",
       "<table border=\"1\" class=\"dataframe\">\n",
       "  <thead>\n",
       "    <tr style=\"text-align: right;\">\n",
       "      <th></th>\n",
       "      <th>activity_id</th>\n",
       "      <th>date_time</th>\n",
       "      <th>activity_name</th>\n",
       "      <th>activity_type</th>\n",
       "      <th>time_sec</th>\n",
       "      <th>distance_km</th>\n",
       "      <th>max_heart_rate</th>\n",
       "      <th>max_speed</th>\n",
       "      <th>average_speed</th>\n",
       "      <th>elevation_gain</th>\n",
       "      <th>average_heart_rate</th>\n",
       "      <th>calories</th>\n",
       "      <th>date_time</th>\n",
       "      <th>hour_of_day</th>\n",
       "      <th>month_of_year</th>\n",
       "      <th>distance_miles</th>\n",
       "      <th>time_minutes</th>\n",
       "      <th>max_speed_mph</th>\n",
       "      <th>average_speed_mph</th>\n",
       "      <th>elevation_gain_ft</th>\n",
       "    </tr>\n",
       "  </thead>\n",
       "  <tbody>\n",
       "    <tr>\n",
       "      <th>0</th>\n",
       "      <td>4551300481</td>\n",
       "      <td>2021-01-01 18:56:31</td>\n",
       "      <td>Afternoon Run</td>\n",
       "      <td>Run</td>\n",
       "      <td>612.0</td>\n",
       "      <td>1.61</td>\n",
       "      <td>NaN</td>\n",
       "      <td>NaN</td>\n",
       "      <td>2.629739</td>\n",
       "      <td>NaN</td>\n",
       "      <td>NaN</td>\n",
       "      <td>NaN</td>\n",
       "      <td>2021-01-01 18:56:31</td>\n",
       "      <td>18</td>\n",
       "      <td>1</td>\n",
       "      <td>1.000622</td>\n",
       "      <td>10.200000</td>\n",
       "      <td>NaN</td>\n",
       "      <td>5.882725</td>\n",
       "      <td>NaN</td>\n",
       "    </tr>\n",
       "    <tr>\n",
       "      <th>1</th>\n",
       "      <td>4555170880</td>\n",
       "      <td>2021-01-02 11:52:42</td>\n",
       "      <td>Morning Run</td>\n",
       "      <td>Run</td>\n",
       "      <td>647.0</td>\n",
       "      <td>1.69</td>\n",
       "      <td>NaN</td>\n",
       "      <td>7.0</td>\n",
       "      <td>2.844724</td>\n",
       "      <td>28.823198</td>\n",
       "      <td>NaN</td>\n",
       "      <td>NaN</td>\n",
       "      <td>2021-01-02 11:52:42</td>\n",
       "      <td>11</td>\n",
       "      <td>1</td>\n",
       "      <td>1.050342</td>\n",
       "      <td>10.783333</td>\n",
       "      <td>15.659</td>\n",
       "      <td>6.363647</td>\n",
       "      <td>94.564302</td>\n",
       "    </tr>\n",
       "  </tbody>\n",
       "</table>\n",
       "</div>"
      ],
      "text/plain": [
       "   activity_id           date_time  activity_name activity_type  time_sec  \\\n",
       "0   4551300481 2021-01-01 18:56:31  Afternoon Run           Run     612.0   \n",
       "1   4555170880 2021-01-02 11:52:42    Morning Run           Run     647.0   \n",
       "\n",
       "   distance_km  max_heart_rate  max_speed  average_speed  elevation_gain  \\\n",
       "0         1.61             NaN        NaN       2.629739             NaN   \n",
       "1         1.69             NaN        7.0       2.844724       28.823198   \n",
       "\n",
       "   average_heart_rate  calories           date_time  hour_of_day  \\\n",
       "0                 NaN       NaN 2021-01-01 18:56:31           18   \n",
       "1                 NaN       NaN 2021-01-02 11:52:42           11   \n",
       "\n",
       "   month_of_year  distance_miles  time_minutes  max_speed_mph  \\\n",
       "0              1        1.000622     10.200000            NaN   \n",
       "1              1        1.050342     10.783333         15.659   \n",
       "\n",
       "   average_speed_mph  elevation_gain_ft  \n",
       "0           5.882725                NaN  \n",
       "1           6.363647          94.564302  "
      ]
     },
     "execution_count": 57,
     "metadata": {},
     "output_type": "execute_result"
    }
   ],
   "source": [
    "cols_to_keep = ['activity_id', 'date_time', 'activity_name', 'activity_type',\n",
    "                'time_sec', 'distance_km', 'max_heart_rate', 'max_speed',\n",
    "                'average_speed', 'elevation_gain', 'average_heart_rate',\n",
    "                'calories', 'date_time', 'hour_of_day', 'month_of_year',\n",
    "                'distance_miles', 'time_minutes', 'max_speed_mph', 'average_speed_mph',\n",
    "                'elevation_gain_ft']\n",
    "out_df = df[cols_to_keep]\n",
    "out_df.head(2)"
   ]
  },
  {
   "cell_type": "code",
   "execution_count": 58,
   "metadata": {},
   "outputs": [
    {
     "data": {
      "text/html": [
       "<div>\n",
       "<style scoped>\n",
       "    .dataframe tbody tr th:only-of-type {\n",
       "        vertical-align: middle;\n",
       "    }\n",
       "\n",
       "    .dataframe tbody tr th {\n",
       "        vertical-align: top;\n",
       "    }\n",
       "\n",
       "    .dataframe thead th {\n",
       "        text-align: right;\n",
       "    }\n",
       "</style>\n",
       "<table border=\"1\" class=\"dataframe\">\n",
       "  <thead>\n",
       "    <tr style=\"text-align: right;\">\n",
       "      <th></th>\n",
       "      <th>index</th>\n",
       "      <th>activity_type</th>\n",
       "    </tr>\n",
       "  </thead>\n",
       "  <tbody>\n",
       "    <tr>\n",
       "      <th>0</th>\n",
       "      <td>Run</td>\n",
       "      <td>322</td>\n",
       "    </tr>\n",
       "    <tr>\n",
       "      <th>1</th>\n",
       "      <td>Workout</td>\n",
       "      <td>275</td>\n",
       "    </tr>\n",
       "    <tr>\n",
       "      <th>2</th>\n",
       "      <td>Weight Training</td>\n",
       "      <td>42</td>\n",
       "    </tr>\n",
       "    <tr>\n",
       "      <th>3</th>\n",
       "      <td>Ride</td>\n",
       "      <td>16</td>\n",
       "    </tr>\n",
       "    <tr>\n",
       "      <th>4</th>\n",
       "      <td>Rowing</td>\n",
       "      <td>3</td>\n",
       "    </tr>\n",
       "    <tr>\n",
       "      <th>5</th>\n",
       "      <td>Yoga</td>\n",
       "      <td>2</td>\n",
       "    </tr>\n",
       "  </tbody>\n",
       "</table>\n",
       "</div>"
      ],
      "text/plain": [
       "             index  activity_type\n",
       "0              Run            322\n",
       "1          Workout            275\n",
       "2  Weight Training             42\n",
       "3             Ride             16\n",
       "4           Rowing              3\n",
       "5             Yoga              2"
      ]
     },
     "execution_count": 58,
     "metadata": {},
     "output_type": "execute_result"
    }
   ],
   "source": [
    "df['activity_type'].value_counts().reset_index()"
   ]
  },
  {
   "cell_type": "code",
   "execution_count": 59,
   "metadata": {},
   "outputs": [],
   "source": [
    "# Split off activity dfs\n",
    "activity_dfs = {}\n",
    "\n",
    "for a in df['activity_type'].unique():\n",
    "    filt = df[df['activity_type'] == a]\n",
    "    activity_dfs[a] = filt"
   ]
  },
  {
   "cell_type": "markdown",
   "metadata": {},
   "source": [
    "----\n",
    "### Top Statistics:\n",
    "\n",
    "- Num Activities\n",
    "- Top activity\n",
    "- Activity counts (Pie?)\n",
    "- Total Activity Time\n",
    "- Total Activity Distance"
   ]
  },
  {
   "cell_type": "code",
   "execution_count": 61,
   "metadata": {},
   "outputs": [],
   "source": [
    "num_activities = len(df)\n",
    "top_activity = df['activity_type'].value_counts().reset_index()['index'].iloc[0]\n",
    "\n",
    "active_counts_table = df['activity_type'].value_counts().reset_index()\n",
    "active_counts_table.columns = ['Activity', 'Count']\n",
    "#active_counts_table.to_csv('value_cnts.csv')\n",
    "\n",
    "total_time_seconds = sum(df['time_sec'])\n",
    "total_time_minutes = sum(df['time_minutes'])\n",
    "\n",
    "total_miles = sum(df['distance_miles'])"
   ]
  },
  {
   "cell_type": "markdown",
   "metadata": {},
   "source": [
    "### Speed and distance activities"
   ]
  },
  {
   "cell_type": "code",
   "execution_count": null,
   "metadata": {},
   "outputs": [],
   "source": [
    "# Group activity types\n"
   ]
  },
  {
   "cell_type": "code",
   "execution_count": 70,
   "metadata": {},
   "outputs": [],
   "source": [
    "if 'Run' in df['activity_type'].unique():\n",
    "    runs = activity_dfs['Run'] \n",
    "    run_dist_total_miles = sum(runs['distance_miles']) # recalc distance m\n",
    "    run_speed_avg_mph = runs['average_speed_mph'].mean()\n",
    "    run_count = len(runs) # calendar icon, animate filling up square behind it to reach %\n",
    "    run_total_elevation = sum(runs['elevation_gain'].dropna()) # confirm measure\n",
    "    run_hr_avg = runs['average_heart_rate'].mean()\n",
    "    run_hr_max = max(runs['max_heart_rate'].dropna())\n",
    "    run_cals_total = sum(runs['calories'].dropna()) # pizzas burned\n",
    "    run_time_total = sum(runs['time_minutes']) # days running, times watched all of the skywalker saga\n",
    "    \n",
    "if 'Ride' in df['activity_type'].unique():\n",
    "    pass"
   ]
  },
  {
   "cell_type": "code",
   "execution_count": 72,
   "metadata": {},
   "outputs": [
    {
     "data": {
      "text/plain": [
       "14282.63333333334"
      ]
     },
     "execution_count": 72,
     "metadata": {},
     "output_type": "execute_result"
    }
   ],
   "source": [
    "run_time_total"
   ]
  },
  {
   "cell_type": "markdown",
   "metadata": {},
   "source": [
    "### Workout activities"
   ]
  },
  {
   "cell_type": "code",
   "execution_count": null,
   "metadata": {},
   "outputs": [],
   "source": []
  }
 ],
 "metadata": {
  "kernelspec": {
   "display_name": "Python 3",
   "language": "python",
   "name": "python3"
  },
  "language_info": {
   "codemirror_mode": {
    "name": "ipython",
    "version": 3
   },
   "file_extension": ".py",
   "mimetype": "text/x-python",
   "name": "python",
   "nbconvert_exporter": "python",
   "pygments_lexer": "ipython3",
   "version": "3.7.6"
  }
 },
 "nbformat": 4,
 "nbformat_minor": 4
}
